{
  "nbformat": 4,
  "nbformat_minor": 0,
  "metadata": {
    "colab": {
      "provenance": [],
      "history_visible": true,
      "gpuType": "T4",
      "include_colab_link": true
    },
    "kernelspec": {
      "name": "python3",
      "display_name": "Python 3"
    },
    "language_info": {
      "name": "python"
    },
    "accelerator": "GPU"
  },
  "cells": [
    {
      "cell_type": "markdown",
      "metadata": {
        "id": "view-in-github",
        "colab_type": "text"
      },
      "source": [
        "<a href=\"https://colab.research.google.com/github/revirevy/RAG_NIX/blob/main/RAG_FOR_PDF.ipynb\" target=\"_parent\"><img src=\"https://colab.research.google.com/assets/colab-badge.svg\" alt=\"Open In Colab\"/></a>"
      ]
    },
    {
      "cell_type": "markdown",
      "source": [
        "chatbot\n"
      ],
      "metadata": {
        "id": "ue8iNuly1ZeI"
      }
    },
    {
      "cell_type": "code",
      "source": [
        "%pip install -q uv PyPDF2 sentence-transformers langchain faiss-cpu groq\n"
      ],
      "metadata": {
        "id": "c48Qeuo71pl4",
        "colab": {
          "base_uri": "https://localhost:8080/"
        },
        "outputId": "763d44a2-0cd7-40dc-8c9c-a91bc47413df"
      },
      "execution_count": 1,
      "outputs": [
        {
          "output_type": "stream",
          "name": "stdout",
          "text": [
            "\u001b[2K   \u001b[90m━━━━━━━━━━━━━━━━━━━━━━━━━━━━━━━━━━━━━━━━\u001b[0m \u001b[32m16.2/16.2 MB\u001b[0m \u001b[31m75.0 MB/s\u001b[0m eta \u001b[36m0:00:00\u001b[0m\n",
            "\u001b[2K   \u001b[90m━━━━━━━━━━━━━━━━━━━━━━━━━━━━━━━━━━━━━━━━\u001b[0m \u001b[32m232.6/232.6 kB\u001b[0m \u001b[31m16.3 MB/s\u001b[0m eta \u001b[36m0:00:00\u001b[0m\n",
            "\u001b[2K   \u001b[90m━━━━━━━━━━━━━━━━━━━━━━━━━━━━━━━━━━━━━━━━\u001b[0m \u001b[32m30.7/30.7 MB\u001b[0m \u001b[31m36.1 MB/s\u001b[0m eta \u001b[36m0:00:00\u001b[0m\n",
            "\u001b[2K   \u001b[90m━━━━━━━━━━━━━━━━━━━━━━━━━━━━━━━━━━━━━━━━\u001b[0m \u001b[32m121.9/121.9 kB\u001b[0m \u001b[31m7.3 MB/s\u001b[0m eta \u001b[36m0:00:00\u001b[0m\n",
            "\u001b[2K   \u001b[90m━━━━━━━━━━━━━━━━━━━━━━━━━━━━━━━━━━━━━━━━\u001b[0m \u001b[32m363.4/363.4 MB\u001b[0m \u001b[31m3.8 MB/s\u001b[0m eta \u001b[36m0:00:00\u001b[0m\n",
            "\u001b[2K   \u001b[90m━━━━━━━━━━━━━━━━━━━━━━━━━━━━━━━━━━━━━━━━\u001b[0m \u001b[32m13.8/13.8 MB\u001b[0m \u001b[31m98.2 MB/s\u001b[0m eta \u001b[36m0:00:00\u001b[0m\n",
            "\u001b[2K   \u001b[90m━━━━━━━━━━━━━━━━━━━━━━━━━━━━━━━━━━━━━━━━\u001b[0m \u001b[32m24.6/24.6 MB\u001b[0m \u001b[31m83.0 MB/s\u001b[0m eta \u001b[36m0:00:00\u001b[0m\n",
            "\u001b[2K   \u001b[90m━━━━━━━━━━━━━━━━━━━━━━━━━━━━━━━━━━━━━━━━\u001b[0m \u001b[32m883.7/883.7 kB\u001b[0m \u001b[31m45.9 MB/s\u001b[0m eta \u001b[36m0:00:00\u001b[0m\n",
            "\u001b[2K   \u001b[90m━━━━━━━━━━━━━━━━━━━━━━━━━━━━━━━━━━━━━━━━\u001b[0m \u001b[32m664.8/664.8 MB\u001b[0m \u001b[31m2.0 MB/s\u001b[0m eta \u001b[36m0:00:00\u001b[0m\n",
            "\u001b[2K   \u001b[90m━━━━━━━━━━━━━━━━━━━━━━━━━━━━━━━━━━━━━━━━\u001b[0m \u001b[32m211.5/211.5 MB\u001b[0m \u001b[31m5.9 MB/s\u001b[0m eta \u001b[36m0:00:00\u001b[0m\n",
            "\u001b[2K   \u001b[90m━━━━━━━━━━━━━━━━━━━━━━━━━━━━━━━━━━━━━━━━\u001b[0m \u001b[32m56.3/56.3 MB\u001b[0m \u001b[31m16.1 MB/s\u001b[0m eta \u001b[36m0:00:00\u001b[0m\n",
            "\u001b[2K   \u001b[90m━━━━━━━━━━━━━━━━━━━━━━━━━━━━━━━━━━━━━━━━\u001b[0m \u001b[32m127.9/127.9 MB\u001b[0m \u001b[31m7.2 MB/s\u001b[0m eta \u001b[36m0:00:00\u001b[0m\n",
            "\u001b[2K   \u001b[90m━━━━━━━━━━━━━━━━━━━━━━━━━━━━━━━━━━━━━━━━\u001b[0m \u001b[32m207.5/207.5 MB\u001b[0m \u001b[31m8.0 MB/s\u001b[0m eta \u001b[36m0:00:00\u001b[0m\n",
            "\u001b[2K   \u001b[90m━━━━━━━━━━━━━━━━━━━━━━━━━━━━━━━━━━━━━━━━\u001b[0m \u001b[32m21.1/21.1 MB\u001b[0m \u001b[31m81.2 MB/s\u001b[0m eta \u001b[36m0:00:00\u001b[0m\n",
            "\u001b[?25h"
          ]
        }
      ]
    },
    {
      "cell_type": "markdown",
      "source": [],
      "metadata": {
        "id": "QqIc1roy5NCw"
      }
    },
    {
      "cell_type": "code",
      "source": [
        "!uv pip install -U langchain-community -q --system transformers sentence_transformers numpy PyPDF2  langchain faiss-cpu groq --no-cache-dir\n"
      ],
      "metadata": {
        "id": "IgDST50w2bad"
      },
      "execution_count": 10,
      "outputs": []
    },
    {
      "cell_type": "code",
      "source": [
        "!uv pip install -U -q --system sentence_transformers numpy transformers"
      ],
      "metadata": {
        "id": "cmvH3bki5nN6"
      },
      "execution_count": 3,
      "outputs": []
    },
    {
      "cell_type": "code",
      "source": [
        "!uv pip install --upgrade torch torchvision torchaudio --index-url https://download.pytorch.org/whl/cu118 -q --system"
      ],
      "metadata": {
        "id": "nFVxoha46zc9"
      },
      "execution_count": 3,
      "outputs": []
    },
    {
      "cell_type": "code",
      "source": [
        "!pip show numpy"
      ],
      "metadata": {
        "id": "YuLacPHD5V09"
      },
      "execution_count": null,
      "outputs": []
    },
    {
      "cell_type": "code",
      "source": [
        "%pip show sentence_transformers"
      ],
      "metadata": {
        "colab": {
          "base_uri": "https://localhost:8080/"
        },
        "id": "FC9PaMXJ51RB",
        "outputId": "a10f66f9-d60c-4233-afc4-f62ddeb4f315"
      },
      "execution_count": 16,
      "outputs": [
        {
          "output_type": "stream",
          "name": "stdout",
          "text": [
            "Name: sentence-transformers\n",
            "Version: 3.4.1\n",
            "Summary: State-of-the-Art Text Embeddings\n",
            "Home-page: https://www.SBERT.net\n",
            "Author: \n",
            "Author-email: Nils Reimers <info@nils-reimers.de>, Tom Aarsen <tom.aarsen@huggingface.co>\n",
            "License: Apache 2.0\n",
            "Location: /usr/local/lib/python3.11/dist-packages\n",
            "Requires: huggingface-hub, Pillow, scikit-learn, scipy, torch, tqdm, transformers\n",
            "Required-by: \n"
          ]
        }
      ]
    },
    {
      "cell_type": "code",
      "source": [],
      "metadata": {
        "id": "C4O9dizW6CsG"
      },
      "execution_count": null,
      "outputs": []
    },
    {
      "cell_type": "code",
      "source": [
        "!uv pip show sentence_transformers"
      ],
      "metadata": {
        "colab": {
          "base_uri": "https://localhost:8080/"
        },
        "outputId": "0a83c9fd-dc1d-412b-acc5-94a356d14269",
        "id": "NVkND_nZ6Eod"
      },
      "execution_count": 1,
      "outputs": [
        {
          "output_type": "stream",
          "name": "stdout",
          "text": [
            "\u001b[2mUsing Python 3.11.11 environment at: /usr\u001b[0m\n",
            "Name: sentence-transformers\n",
            "Version: 3.4.1\n",
            "Location: /usr/local/lib/python3.11/dist-packages\n",
            "Requires: huggingface-hub, pillow, scikit-learn, scipy, torch, tqdm, transformers\n",
            "Required-by:\n"
          ]
        }
      ]
    },
    {
      "cell_type": "code",
      "source": [
        "import os\n",
        "from PyPDF2 import PdfReader\n",
        "from sentence_transformers import SentenceTransformer\n",
        "from groq import Groq\n",
        "from langchain.text_splitter import RecursiveCharacterTextSplitter\n",
        "from langchain.vectorstores import FAISS\n",
        "from langchain.embeddings import HuggingFaceEmbeddings\n",
        "from tqdm import tqdm.auto as tqdm\n"
      ],
      "metadata": {
        "id": "PEEEQkEj2A8x"
      },
      "execution_count": 1,
      "outputs": []
    },
    {
      "cell_type": "code",
      "source": [
        "def extract_text_from_pdfs(pdf_folder):\n",
        "    \"\"\"\n",
        "    Extracts text from all PDF files in the given folder.\n",
        "    \"\"\"\n",
        "    text_data = \"\"\n",
        "    for pdf_file in tqdm(os.listdir(pdf_folder)):\n",
        "        if pdf_file.endswith('.pdf'):\n",
        "            reader = PdfReader(os.path.join(pdf_folder, pdf_file))\n",
        "            for page in reader.pages:\n",
        "                text_data += page.extract_text()\n",
        "    return text_data\n"
      ],
      "metadata": {
        "id": "Ea5ITnyj2-Qt"
      },
      "execution_count": 2,
      "outputs": []
    },
    {
      "cell_type": "code",
      "source": [
        "def split_text_into_chunks(text, chunk_size=500, chunk_overlap=50):\n",
        "    \"\"\"\n",
        "    Splits text into smaller chunks for embedding generation.\n",
        "    \"\"\"\n",
        "    splitter = RecursiveCharacterTextSplitter(chunk_size=chunk_size, chunk_overlap=chunk_overlap)\n",
        "    return splitter.split_text(text)\n"
      ],
      "metadata": {
        "id": "m8aMIrhU3xzG"
      },
      "execution_count": 3,
      "outputs": []
    },
    {
      "cell_type": "code",
      "source": [
        "def create_vector_database(chunks, embedding_model_name=\"sentence-transformers/all-MiniLM-L6-v2\"):\n",
        "    \"\"\"\n",
        "    Creates a vector database from the given chunks using HuggingFace embeddings.\n",
        "    \"\"\"\n",
        "    embeddings = HuggingFaceEmbeddings(model_name=embedding_model_name)\n",
        "    vector_store = FAISS.from_texts(chunks, embeddings)\n",
        "    return vector_store\n"
      ],
      "metadata": {
        "id": "42D_ztg337ip"
      },
      "execution_count": 4,
      "outputs": []
    },
    {
      "cell_type": "code",
      "source": [
        "def chatbot(query, vector_store, groq_client, model=\"llama-3.3-70b-versatile\"):\n",
        "    \"\"\"\n",
        "    Retrieves relevant chunks from the vector database and generates a response using Groq.\n",
        "    \"\"\"\n",
        "    # Retrieve relevant chunks\n",
        "    docs = vector_store.similarity_search(query, k=5)\n",
        "    context = \" \".join([doc.page_content for doc in tqdm(docs)])\n",
        "\n",
        "    # Generate response\n",
        "    chat_completion = groq_client.chat.completions.create(\n",
        "        model=model,\n",
        "        messages=[\n",
        "            {\"role\": \"system\", \"content\": f\"Use the following context for your answer: {context}\"},\n",
        "            {\"role\": \"user\", \"content\": query}\n",
        "        ]\n",
        "    )\n",
        "    return chat_completion.choices[0].message.content\n"
      ],
      "metadata": {
        "id": "Bwi3630y4Igh"
      },
      "execution_count": 5,
      "outputs": []
    },
    {
      "cell_type": "code",
      "source": [
        "def initialize_groq():\n",
        "    \"\"\"\n",
        "    Initializes the Groq client for the chatbot.\n",
        "    \"\"\"\n",
        "    from google.colab import userdata\n",
        "    xapi_key = userdata.get('GROK')\n",
        "    # Replace \"your_actual_api_key\" with your API key\n",
        "    # client = Groq(api_key=\"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\")\n",
        "    client = Groq(api_key=xapi_key)\n",
        "\n",
        "    return client\n",
        "\n",
        "# Example usage of the chatbot\n",
        "if __name__ == \"__main__\":\n",
        "    # Path to folder containing PDFs\n",
        "    pdf_folder = \"/content/data\"  # Update with your folder path containing PDFs\n",
        "\n",
        "    # Step 1: Extract text from PDFs\n",
        "    text_data = extract_text_from_pdfs(pdf_folder)\n",
        "\n",
        "    # Step 2: Split text into chunks\n",
        "    chunks = split_text_into_chunks(text_data)\n",
        "\n",
        "    # Step 3: Create a vector database\n",
        "    vector_store = create_vector_database(chunks)\n",
        "\n",
        "    # Step 4: Initialize Groq\n",
        "    groq_client = initialize_groq()  # No arguments passed here\n",
        "\n",
        "    # Step 5: Query the chatbot\n",
        "    query = \"c'est quoi le PMSI SMR?\"\n",
        "    response = chatbot(query, vector_store, groq_client)\n",
        "\n",
        "    print(\"Chatbot Response:\", response)\n"
      ],
      "metadata": {
        "colab": {
          "base_uri": "https://localhost:8080/"
        },
        "id": "n7iKT1DeMShT",
        "outputId": "9e423490-8654-4aaa-e7b7-fa04c2c27650"
      },
      "execution_count": 7,
      "outputs": [
        {
          "output_type": "stream",
          "name": "stdout",
          "text": [
            "Chatbot Response: Le PMSI SMR fait référence au Programme de Médicalisation des Systèmes d'Information en Santé pour les Soins de Suite et de Réadaptation (SMR). Il s'agit d'un système de collecte et d'analyse de données sur les activités de soins dispensés dans les établissements de santé publics et privés en France.\n",
            "\n",
            "Le PMSI SMR est un outil de gestion et d'évaluation des soins de suite et de réadaptation, qui vise à améliorer la qualité et l'efficacité des soins dispensés aux patients. Il permet de recueillir et d'analyser des données sur les caractéristiques des patients, les soins dispensés, les durées de séjour, les coûts et les résultats des traitements.\n",
            "\n",
            "Le PMSI SMR est réglementé par l'arrêté du 23 décembre 2016 modifié, qui définit les cadres et les normes pour la collecte et l'analyse des données. Les établissements de santé publics et privés participant au service public hospitalier sont tenus de participer à ce programme, qui a été mis en place à compter du 1er juillet 1998 pour les établissements publics et du 1er juillet 2003 pour les établissements privés.\n",
            "\n",
            "Les données collectées dans le cadre du PMSI SMR sont utilisées pour évaluer la qualité des soins, améliorer la gestion des ressources et optimiser les politiques de santé. Elles sont également utilisées pour établir des statistiques et des indicateurs de performance, qui permettent de comparer les résultats des établissements de santé et de identifier les domaines d'amélioration.\n"
          ]
        }
      ]
    },
    {
      "cell_type": "markdown",
      "source": [
        "comment coder en SMR une reeducation pour un amputé de pied"
      ],
      "metadata": {
        "id": "jaB8_7VE8CzZ"
      }
    },
    {
      "cell_type": "code",
      "source": [
        "    # Step 5: Query the chatbot\n",
        "    query = \"ccomment coder en SMR une reeducation pour un amputé de pied?\"\n",
        "    response = chatbot(query, vector_store, groq_client)\n",
        "\n",
        "    print(\"Chatbot Response:\", response)"
      ],
      "metadata": {
        "colab": {
          "base_uri": "https://localhost:8080/"
        },
        "id": "NeT-uNByAxeS",
        "outputId": "9899ee01-d8b5-4b4f-ae23-688b2199c049"
      },
      "execution_count": 8,
      "outputs": [
        {
          "output_type": "stream",
          "name": "stdout",
          "text": [
            "Chatbot Response: Pour coder en SMR (Système de Médecine de Réadaptation) une rééducation pour un amputé de pied, il faut considérer les différents aspects de la rééducation, tels que l'évaluation, la prise en charge, la rééducation proprement dite, et les éventuels actes de fabrication ou d'adaptation d'appareillage.\n",
            "\n",
            "Voici quelques étapes pour coder en SMR une rééducation pour un amputé de pied :\n",
            "\n",
            "1. **Évaluation** : Il faut évaluer les capacités et les besoins de l'amputé de pied. Cela peut inclure des actes tels que :\n",
            " * Évaluation de la mobilité et de la stabilité (GKR+213 : Séance collective de rééducation du langage oral, mais il faudrait plutôt utiliser un code spécifique pour l'évaluation de la mobilité)\n",
            " * Évaluation de la force et de lacoordination musculaire (BLR+077 : Séance de rééducation oculomotrice, mais il faudrait plutôt utiliser un code spécifique pour l'évaluation de la force et de la coordination musculaire)\n",
            "2. **Prise en charge** : Il faut prendre en charge l'amputé de pied pour améliorer ses capacités et sa qualité de vie. Cela peut inclure des actes tels que :\n",
            " * Rééducation de la marche et de l'équilibre (code spécifique à utiliser)\n",
            " * Rééducation de la force et de la coordination musculaire (code spécifique à utiliser)\n",
            "3. **Rééducation** : Il faut proposer des séances de rééducation pour améliorer les capacités de l'amputé de pied. Cela peut inclure des actes tels que :\n",
            " * Séance de rééducation de la marche et de l'équilibre (code spécifique à utiliser)\n",
            " * Séance de rééducation de la force et de la coordination musculaire (code spécifique à utiliser)\n",
            "4. **Appareillage** : Il faut évaluer les besoins de l'amputé de pied en termes d'appareillage, tels que des prothèses ou des orthèses. Cela peut inclure des actes tels que :\n",
            " * Fabrication d'appareillage (code spécifique à utiliser)\n",
            " * Fourniture et adaptation d'appareillage (code spécifique à utiliser)\n",
            " * Rééducation et apprentissage de l'utilisation d'appareillage (code spécifique à utiliser)\n",
            "\n",
            "Il est important de noter que les codes SMR utilisés doivent être spécifiques à la condition de l'amputé de pied et aux objectifs de la rééducation. Il est recommandé de consulter le catalogue des actes SMR pour trouver les codes les plus appropriés pour chaque étape de la rééducation.\n",
            "\n",
            "Exemples de codes SMR qui pourraient être utilisés pour une rééducation pour un amputé de pied :\n",
            "\n",
            "* GKR+213 : Séance collective de rééducation du langage oral (pas spécifique à l'amputé de pied, mais pourrait être utilisé pour une évaluation de la mobilité)\n",
            "* BLR+077 : Séance de rééducation oculomotrice (pas spécifique à l'amputé de pied, mais pourrait être utilisé pour une évaluation de la force et de la coordination musculaire)\n",
            "* Autres codes spécifiques à l'amputé de pied, tels que :\n",
            " + Rééducation de la marche et de l'équilibre\n",
            " + Rééducation de la force et de la coordination musculaire\n",
            " + Fabrication d'appareillage\n",
            " + Fourniture et adaptation d'appareillage\n",
            " + Rééducation et apprentissage de l'utilisation d'appareillage\n",
            "\n",
            "Il est important de noter que ces codes ne sont pas spécifiques à l'amputé de pied et qu'il est nécessaire de consulter le catalogue des actes SMR pour trouver les codes les plus appropriés pour chaque étape de la rééducation.\n"
          ]
        }
      ]
    },
    {
      "cell_type": "code",
      "source": [
        "    # Step 5: Query the chatbot\n",
        "    query = \"ccomment coder en SMR une reeducation pour un amputé de pied en terme de diagnostics : le MMP et le AE?\"\n",
        "    response = chatbot(query, vector_store, groq_client)\n",
        "\n",
        "    print(\"Chatbot Response:\", response)"
      ],
      "metadata": {
        "colab": {
          "base_uri": "https://localhost:8080/"
        },
        "id": "rgfE161gA4uq",
        "outputId": "84c703b3-ef3d-4e71-dd38-59a9307bae9e"
      },
      "execution_count": 9,
      "outputs": [
        {
          "output_type": "stream",
          "name": "stdout",
          "text": [
            "Chatbot Response: Pour coder en SMR (Système de Management de la Relation) une rééducation pour un amputé de pied, il est essentiel de choisir les codes diagnostics les plus précis possibles conformément à la Classification Internationale des Maladies (CIM-10) à usage PMSI (Programme de Médicalisation des Systèmes d'Information). Les deux éléments clés à coder sont le MMP (Manifestation Morbide Principale) et l'AE (Affection ou État).\n",
            "\n",
            "1. **MMP (Manifestation Morbide Principale)**:\n",
            "   - Le MMP doit refléter la raison principale pour laquelle le patient a été admis ou traité. Dans le cas d'un amputé de pied en rééducation, le MMP pourrait être lié à la complication ou à l'état qui justifie la rééducation. Par exemple, si l'amputation est la conséquence d'une maladie vasculaire, le MMP pourrait être `I70.2` (Artérosclérose des artères des membres inférieurs) ou un code plus spécifique si disponible.\n",
            "   - Si la rééducation est directement liée à l'amputation elle-même (par exemple, rééducation après amputation), le code MMP pourrait être `Z89.4` (État après amputation de pied), qui reflète l'état du patient après l'amputation.\n",
            "\n",
            "2. **AE (Affection ou État)**:\n",
            "   - L'AE est utilisé pour coder les autres diagnostics ou affections qui sont également traités ou suivis pendant le séjour du patient. Pour un amputé de pied en rééducation, plusieurs codes AE pourraient être pertinents :\n",
            "     - `Z42.8` (État après autre amputation) si l'amputation est la principale raison de la rééducation mais que le code plus spécifique `Z89.4` n'est pas approprié pour certaines raisons (par exemple, si l'amputation concerne une partie différente du pied).\n",
            "     - `M80-M89` (Maladies du système ostéo-articulaire et du tissu musculaire) si des problèmes liés aux os, articulations ou muscles sont également traités pendant la rééducation.\n",
            "     - Codes spécifiques aux complications ou aux affections sous-jacentes qui nécessitent une attention particulière pendant la rééducation, comme les troubles vasculaires (`I70-I79`), les problèmes de peau (`L00-L99`), les affections du système nerveux (`G00-G99`), etc.\n",
            "\n",
            "**Exemple de Codage**:\n",
            "- MMP : `Z89.4` (État après amputation de pied)\n",
            "- AE : `I70.2` (Artérosclérose des artères des membres inférieurs), `M81.0` (Ostéoporose post-ménopausique), `G57.0` (Lésion du nerf sciatique)\n",
            "\n",
            "Il est crucial de respecter les règles de codage établies par la CIM-10 à usage PMSI et de choisir les codes les plus spécifiques et les plus précis possible pour refléter avec exactitude les affections et les traitements du patient. De plus, la documentation médicale doit clairement supporter les codes choisis. La formation et la mise à jour régulière des connaissances en matière de codage sont essentielles pour garantir une qualité élevée et une conformité aux normes et réglementations en vigueur.\n"
          ]
        }
      ]
    },
    {
      "cell_type": "code",
      "source": [
        "# prompt: rajouter juste les deux fonctions pour sauvegarder et charger le vector store\n",
        "\n",
        "import pickle\n",
        "\n",
        "def save_vector_store(vector_store, filename=\"vector_store.pkl\"):\n",
        "    \"\"\"Saves the vector store to a file using pickle.\"\"\"\n",
        "    with open(filename, \"wb\") as f:\n",
        "        pickle.dump(vector_store, f)\n",
        "\n",
        "def load_vector_store(filename=\"vector_store.pkl\"):\n",
        "    \"\"\"Loads the vector store from a file using pickle.\"\"\"\n",
        "    with open(filename, \"rb\") as f:\n",
        "        vector_store = pickle.load(f)\n",
        "    return vector_store\n"
      ],
      "metadata": {
        "id": "L1IS0xyaA0Wi"
      },
      "execution_count": 10,
      "outputs": []
    },
    {
      "cell_type": "code",
      "source": [
        "save_vector_store(vector_store)\n"
      ],
      "metadata": {
        "id": "bApt9HqIBWKK"
      },
      "execution_count": 11,
      "outputs": []
    },
    {
      "cell_type": "code",
      "source": [],
      "metadata": {
        "id": "5lvcWiy3BqWc"
      },
      "execution_count": null,
      "outputs": []
    },
    {
      "cell_type": "code",
      "source": [
        "from google.colab import drive\n",
        "drive.mount('/content/drive')"
      ],
      "metadata": {
        "colab": {
          "base_uri": "https://localhost:8080/"
        },
        "id": "Jsqx9F4qBvbr",
        "outputId": "13100e53-4f6c-4c27-8028-3327275285f6"
      },
      "execution_count": 13,
      "outputs": [
        {
          "output_type": "stream",
          "name": "stdout",
          "text": [
            "Mounted at /content/drive\n"
          ]
        }
      ]
    },
    {
      "cell_type": "code",
      "source": [],
      "metadata": {
        "id": "N67ocBWtBxNl"
      },
      "execution_count": null,
      "outputs": []
    },
    {
      "cell_type": "code",
      "source": [
        "from langchain.vectorstores import FAISS\n",
        "from langchain.embeddings import OpenAIEmbeddings\n",
        "from langchain.embeddings import HuggingFaceEmbeddings\n",
        "\n",
        "def create_and_save_faiss_vector_store(vector_store, save_path=\"faiss_index.pkl\",\n",
        "     embedding_model_name=\"sentence-transformers/all-MiniLM-L6-v2\"):\n",
        "\n",
        "    embeddings = HuggingFaceEmbeddings(model_name=embedding_model_name)\n",
        "    # embeddings = OpenAIEmbeddings()\n",
        "    # vector_store = FAISS.from_texts(chunks, embeddings)\n",
        "    vector_store.save_local(save_path)\n",
        "    return vector_store\n",
        "\n",
        "def load_faiss_vector_store(load_path=\"faiss_index.pkl\",\n",
        "     embedding_model_name=\"sentence-transformers/all-MiniLM-L6-v2\"):\n",
        "    \"\"\"Loads a vector store from the specified path.\"\"\"\n",
        "    embeddings = HuggingFaceEmbeddings(model_name=embedding_model_name)\n",
        "    return FAISS.load_local(  load_path, embeddings,allow_dangerous_deserialization=True)"
      ],
      "metadata": {
        "id": "YYkbVssSC4ch"
      },
      "execution_count": 27,
      "outputs": []
    },
    {
      "cell_type": "code",
      "source": [
        "create_and_save_faiss_vector_store(vector_store)"
      ],
      "metadata": {
        "colab": {
          "base_uri": "https://localhost:8080/"
        },
        "id": "HMueGg-4C9Uj",
        "outputId": "04a4fad0-ed3b-4be7-d035-5c0adb19f28f"
      },
      "execution_count": 20,
      "outputs": [
        {
          "output_type": "execute_result",
          "data": {
            "text/plain": [
              "<langchain_community.vectorstores.faiss.FAISS at 0x7d88a2464fd0>"
            ]
          },
          "metadata": {},
          "execution_count": 20
        }
      ]
    },
    {
      "cell_type": "code",
      "source": [],
      "metadata": {
        "id": "N3q_KnSRDIVo"
      },
      "execution_count": null,
      "outputs": []
    },
    {
      "cell_type": "code",
      "source": [
        "    # Step 5: Query the chatbot\n",
        "    query = \"\"\"Patient admis en hospitalisation, Monsieur FA. né le 30/03/1976, du 15/01/2015 au 07/02/2015,\n",
        "pour soins de suite et réadaptation après fracture de D12 (ostéosynthèse le 01/01/2015).\n",
        "A l'entrée :\n",
        "- Orienté dans le temps et dans l’espace\n",
        "- Aide partielle à l'habillage\n",
        "- Continent\n",
        "- Marche seul mais a besoin d’une aide pour s’asseoir et se lever des toilettes\n",
        "- Mange seul\n",
        "- Syndrome post traumatique, très anxieux, insomnies\n",
        "Projet diagnostique et thérapeutique :\n",
        "- Séances régulières de kinésithérapie motrice (1 fois par jour, 5 fois par semaine)\n",
        "- consignes données par l'ergothérapeute quant au port du corset.\n",
        "- Prise en charge psychologique devant le syndrome de stress post-traumatique présent à\n",
        "l’admission avec cauchemars et anxiété (a besoin d’être rassuré).\n",
        "\n",
        "coder ce patient en SMR donner en CIM10 les MMP, le AE les DAS,\n",
        "puis le codage des dependances et\n",
        "au final les eventuels actes CSARR\n",
        "    \"\"\"\n",
        "    response = chatbot(query, vector_store, groq_client)\n",
        "\n",
        "    print(\"Chatbot Response:\", response)"
      ],
      "metadata": {
        "colab": {
          "base_uri": "https://localhost:8080/"
        },
        "outputId": "72f30395-f0a7-4bf4-ecc7-2b193a04a7fe",
        "id": "WaqJe_-EEcs4"
      },
      "execution_count": 24,
      "outputs": [
        {
          "output_type": "stream",
          "name": "stdout",
          "text": [
            "Chatbot Response: Pour coder ce patient en SMR (Système de Management de la Réadaptation), nous devons identifier les éléments suivants :\n",
            "\n",
            "1. **MMP (Manifestation Morbide Principale)** : La raison principale de l'admission du patient est la fracture de D12 avec ostéosynthèse. Le code CIM-10 pour cette condition est S32.5 (Fracture de la vertèbre lombaire).\n",
            "2. **AE (Affection Étiologique)** : L'affection étiologique sous-jacente qui a conduit à la fracture de D12 n'est pas spécifiquement mentionnée dans le texte fourni. Cependant, étant donné le contexte d'une fracture avec ostéosynthèse, on peut déduire qu'il y a eu un traumatisme. Le code pour un traumatisme n'est pas explicitement fourni dans le texte, mais on peut utiliser le code S32.5 comme base, étant donné qu'il s'agit d'une fracture.\n",
            "3. **DAS (Durée d'Absence de Séjour)** : La durée du séjour hospitalier est du 15/01/2015 au 07/02/2015, soit 23 jours.\n",
            "\n",
            "**Codage en CIM-10 pour les éléments mentionnés** :\n",
            "- MMP : S32.5 (Fracture de la vertèbre lombaire)\n",
            "- AE : Pas de code spécifique fourni, mais S32.5 pourrait être utilisé dans le contexte de cette admission.\n",
            "- DAS : 23 jours\n",
            "\n",
            "**Dépendances** :\n",
            "- Le patient a besoin d'une aide partielle pour certaines activités (habillage, s'asseoir et se lever des toilettes), ce qui suggère une dépendance partielle pour les activités quotidiennes.\n",
            "- Code de dépendance : Non spécifiquement fourni dans le texte, mais il faudrait utiliser les codes relatifs aux Activités de la Vie Quotidienne (AVQ) pour coder cette dépendance.\n",
            "\n",
            "**Actes CSARR (Chirurgie, Soins d'Assistance et Rééducation, Réhabilitation)** :\n",
            "- Le patient reçoit des séances régulières de kinésithérapie motrice (1 fois par jour, 5 fois par semaine), ce qui constitue un acte de rééducation.\n",
            "- Le patient reçoit des consignes pour le port du corset, ce qui fait partie des soins d'assistance et de réadaptation.\n",
            "- Le patient bénéficie d'une prise en charge psychologique pour le syndrome de stress post-traumatique, ce qui fait partie des soins d'assistance et de réadaptation.\n",
            "\n",
            "Les codes spécifiques pour ces actes CSARR ne sont pas fournis dans le texte, mais ils devraient être codés avec précision en utilisant les classifications appropriées pour la kinésithérapie, l'ergothérapie, et la prise en charge psychologique.\n"
          ]
        }
      ]
    },
    {
      "cell_type": "code",
      "source": [],
      "metadata": {
        "id": "ydJsiew0FQle"
      },
      "execution_count": null,
      "outputs": []
    },
    {
      "cell_type": "code",
      "source": [
        "    # Step 5: Query the chatbot\n",
        "    query = \"\"\"coder celui ci:\n",
        "\n",
        "Homme de 62 ans artéritique, amputé de jambe droite, hospitalisé en MPR pour appareillage.\u000bCette semaine :\u000bRééducation kiné préparatoire à l’appareillage.\u000bRefus d’interrompre le tabagisme chronique (40 paquets année).\n",
        "    \"\"\"\n",
        "    response = chatbot(query, vector_store, groq_client)\n",
        "\n",
        "    print(\"Chatbot Response:\", response)"
      ],
      "metadata": {
        "colab": {
          "base_uri": "https://localhost:8080/"
        },
        "outputId": "e72533c8-3fbe-408a-a875-201abb0d22e0",
        "id": "Dfqav15MFjav"
      },
      "execution_count": 25,
      "outputs": [
        {
          "output_type": "stream",
          "name": "stdout",
          "text": [
            "Chatbot Response: Un exemple de transcription médicale !\n",
            "\n",
            "Voici une proposition de codage pour ce texte :\n",
            "\n",
            "* Diagnoses :\n",
            " + Artérite (code ICD-10 : I70.-)\n",
            " + Amputation de jambe droite (code ICD-10 : Z89.2-)\n",
            "* Actes médicaux :\n",
            " + Rééducation kinésithérapique préparatoire à l'appareillage (code CCAM : GVF001 ou GVK001, selon la version du catalogue)\n",
            " + Évaluation pour l'appareillage (code CCAM : GVA001)\n",
            "* Résultats :\n",
            " + Refus d'interrompre le tabagisme chronique (code CIM-10 : F17.2-)\n",
            "* Indicateurs de prise en charge :\n",
            " + Hospitalisation en Médecine Physique et de Réadaptation (MPR) pour appareillage (code CSARR : MPR001)\n",
            " + Actes de rééducation et apprentissage de l'utilisation d'appareillage (code CCAM : GVL001)\n",
            "\n",
            "Notez que les codes utilisés peuvent varier en fonction de la version du catalogue CCAM et de la réglementation en vigueur. Il est essentiel de consulter les documents de référence pertinents pour s'assurer de l'exactitude des codes utilisés.\n"
          ]
        }
      ]
    },
    {
      "cell_type": "code",
      "source": [],
      "metadata": {
        "id": "mEwY-De1GawW"
      },
      "execution_count": null,
      "outputs": []
    },
    {
      "cell_type": "code",
      "source": [
        "vector_store2 = load_faiss_vector_store()"
      ],
      "metadata": {
        "id": "ykCjCIeuHl2G"
      },
      "execution_count": 28,
      "outputs": []
    },
    {
      "cell_type": "code",
      "source": [
        "    # Step 5: Query the chatbot\n",
        "    query = \"\"\"\n",
        "Mr X présentant une maladie de Parkinson évoluée est pris en charge en médecine physique et réadaptation.\n",
        "Survenue cette semaine d’une hypotension iatrogène après majoration de son traitement par Modopar.\n",
        "\n",
        "Cette semaine :\n",
        "Evaluation fonctionnelle pluriquotidienne suite à la modification récente de son traitement\n",
        "Séance de reautonomisation aux actes de la vie quotidienne tous les jours : Kiné et Ergo\n",
        "\n",
        "coder ce patient en SMR donner en CIM10 les MMP, le AE les DAS,\n",
        "puis eventuellement coder dependances et\n",
        "au final les eventuels actes CSARR\n",
        "    \"\"\"\n",
        "    response = chatbot(query, vector_store2, groq_client)\n",
        "\n",
        "    print(\"Chatbot Response:\", response)"
      ],
      "metadata": {
        "id": "BjaxyHU8IDlA",
        "outputId": "6ea28262-2a3c-4a54-f9a0-64b3acf963d2",
        "colab": {
          "base_uri": "https://localhost:8080/"
        }
      },
      "execution_count": 29,
      "outputs": [
        {
          "output_type": "stream",
          "name": "stdout",
          "text": [
            "Chatbot Response: Pour coder ce patient en SMR (Système de Management de Ressources), il faut prendre en compte les informations fournies :\n",
            "\n",
            "1. **SMR (Groupe Homogène de Malades) :**\n",
            "   - Le patient présente une maladie de Parkinson évoluée qui requiert une prise en charge en médecine physique et réadaptation. Cela pourrait correspondre à des codes SMR liés à la rééducation neurologique. Sans les détails précis des classifications SMR, il est difficile de donner un code exact, mais cela pourrait se rapprocher de G20 (Maladie de Parkinson) ou de codes spécifiques liés à la réadaptation neurologique.\n",
            "\n",
            "2. **MMP (Mode de Mortalité et de Morbidité) en CIM10 :**\n",
            "   - La maladie principale est la maladie de Parkinson : G20.\n",
            "   - L'hypotension iatrogène après majoration du traitement par Modopar pourrait être codée comme I95.9 (Hypotension, sans précision) avec un code supplémentaire pour indiquer l'origine iatrogène (Y66.1, Effet indésirable d'un médicament lors d'une administration correcte).\n",
            "\n",
            "3. **AE (Affections Évitables) :**\n",
            "   - L'hypotension iatrogène pourrait être considérée comme une affection évitable, donc oui, cela devrait être codé. Le code précis dépendrait du système de codage des AE utilisé, mais il s'agirait d'un code lié aux effets indésirables des médicaments.\n",
            "\n",
            "4. **DAS (Dépendances et Activités de la Vie Quotidienne) :**\n",
            "   - Le patient nécessite une rééducation et des séances de reautonomisation aux actes de la vie quotidienne (AVQ), ce qui indique une certaine dépendance pour ces activités. Les codes DAS spécifiques dépendent du système utilisé, mais il s'agirait de codes reflétant la nécessité d'assistance pour les activités quotidiennes en raison de la maladie de Parkinson et de ses complications.\n",
            "\n",
            "5. **Dépendances :**\n",
            "   - Compte tenu des besoins en rééducation et en reautonomisation, le patient présente des dépendances pour les AVQ. Cela pourrait être codé en utilisant des codes spécifiques liés à la dépendance pour les activités quotidiennes.\n",
            "\n",
            "6. **Actes CSARR (Classification des Séjours des Activités de Rééducation et de Réadaptation) :**\n",
            "   - Les actes de rééducation et de réadaptation mentionnés (évaluation fonctionnelle pluriquotidienne, séances de reautonomisation aux AVQ avec kinésithérapie et ergothérapie) pourraient être codés en utilisant des codes CSARR spécifiques à ces interventions. Par exemple, il pourrait s'agir de codes liés à la rééducation neurologique, à la kinésithérapie et à l'ergothérapie.\n",
            "\n",
            "Exemple de codage (réalisé sans accès aux systèmes de codage spécifiques et donc uniquement illustratif) :\n",
            "- **SMR :** G20 (si les détails du système SMR le permettent)\n",
            "- **MMP :** G20, I95.9, Y66.1\n",
            "- **AE :** Code spécifique à l'effet indésirable du médicament\n",
            "- **DAS :** Codes spécifiques à la dépendance pour les AVQ en raison de la maladie de Parkinson\n",
            "- **Dépendances :** Codes spécifiques à la dépendance pour les AVQ\n",
            "- **Actes CSARR :** Codes spécifiques à la rééducation neurologique, kinésithérapie et ergothérapie\n"
          ]
        }
      ]
    },
    {
      "cell_type": "code",
      "source": [],
      "metadata": {
        "id": "8YcUZz-OI6D7"
      },
      "execution_count": null,
      "outputs": []
    }
  ]
}